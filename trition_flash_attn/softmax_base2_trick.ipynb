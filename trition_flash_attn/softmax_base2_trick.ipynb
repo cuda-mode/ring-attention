{
 "cells": [
  {
   "cell_type": "code",
   "execution_count": 4,
   "metadata": {},
   "outputs": [
    {
     "name": "stdout",
     "output_type": "stream",
     "text": [
      "tensor([0.0747, 0.0607, 0.0675, 0.0672, 0.0174, 0.0443, 0.4856, 0.0282, 0.0847,\n",
      "        0.0697])\n",
      "tensor([0.0747, 0.0607, 0.0675, 0.0672, 0.0174, 0.0443, 0.4856, 0.0282, 0.0847,\n",
      "        0.0697])\n",
      "tensor([0.0747, 0.0607, 0.0675, 0.0672, 0.0174, 0.0443, 0.4856, 0.0282, 0.0847,\n",
      "        0.0697])\n",
      "allclose(a, b) True\n",
      "allclose(b, c) True\n"
     ]
    }
   ],
   "source": [
    "import torch\n",
    "\n",
    "torch.manual_seed(42)\n",
    "x = torch.randn(10)\n",
    "\n",
    "def softmax_standard(x):\n",
    "    \"\"\"numerically stable by subtracting max\"\"\"\n",
    "    n = (x - x.max()).exp()\n",
    "    return n / n.sum()\n",
    "\n",
    "def softmax_base2_trick(x):\n",
    "    \"\"\"calculate 2^x instead of e^x\"\"\"\n",
    "    RCP_LN2 = 1.4426950408889634  # = 1.0 / ln(2)\n",
    "    n = torch.exp2((x - x.max()) * RCP_LN2)\n",
    "    return n / n.sum()\n",
    "\n",
    "a = torch.softmax(x, dim=0)\n",
    "b = softmax_standard(x)\n",
    "c = softmax_base2_trick(x)\n",
    "\n",
    "print(a)\n",
    "print(b)\n",
    "print(c)\n",
    "print(\"allclose(a, b)\" ,torch.allclose(a, b))\n",
    "print(\"allclose(b, c)\", torch.allclose(b, c))\n"
   ]
  }
 ],
 "metadata": {
  "kernelspec": {
   "display_name": "Python 3",
   "language": "python",
   "name": "python3"
  },
  "language_info": {
   "codemirror_mode": {
    "name": "ipython",
    "version": 3
   },
   "file_extension": ".py",
   "mimetype": "text/x-python",
   "name": "python",
   "nbconvert_exporter": "python",
   "pygments_lexer": "ipython3",
   "version": "3.10.12"
  }
 },
 "nbformat": 4,
 "nbformat_minor": 2
}
