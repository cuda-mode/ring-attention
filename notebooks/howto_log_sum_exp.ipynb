{
 "cells": [
  {
   "cell_type": "markdown",
   "metadata": {},
   "source": [
    "# How-to Log Sum Exp\n",
    "\n",
    "Using flash-attention intensively you will at some point hear about `lse` values being returend. `lse` stands for \"log sum exp\" and can be used to compute softmax (and thereby also attention) in a blockwise and stable fashion. This notebook aims to explain how this works."
   ]
  },
  {
   "cell_type": "markdown",
   "metadata": {},
   "source": [
    "Let's start by defining a naive softmax function .."
   ]
  },
  {
   "cell_type": "code",
   "execution_count": 5,
   "metadata": {},
   "outputs": [],
   "source": [
    "from typing import Tuple, Sequence\n",
    "import torch\n",
    "import math\n",
    "\n",
    "def naive_softmax(x: torch.Tensor) -> torch.Tensor:\n",
    "    return x.exp() / x.exp().sum()"
   ]
  },
  {
   "cell_type": "markdown",
   "metadata": {},
   "source": [
    "... and verify that its output matches the output of the official `torch.softmax()` function."
   ]
  },
  {
   "cell_type": "code",
   "execution_count": 6,
   "metadata": {},
   "outputs": [
    {
     "name": "stdout",
     "output_type": "stream",
     "text": [
      "a tensor([0.0323, 0.1455, 0.0659, 0.3275, 0.0416, 0.1432, 0.0871, 0.0258, 0.0234,\n",
      "        0.1077])\n",
      "b tensor([0.0323, 0.1455, 0.0659, 0.3275, 0.0416, 0.1432, 0.0871, 0.0258, 0.0234,\n",
      "        0.1077])\n",
      "allclose True\n"
     ]
    }
   ],
   "source": [
    "x = torch.randn(10)  # generate normally distributed random numbers\n",
    "a = torch.softmax(x, dim=-1) # reference output\n",
    "b = naive_softmax(x) # our naive version\n",
    "\n",
    "print(\"a\", a)\n",
    "print(\"b\", b)\n",
    "print(\"allclose\", torch.allclose(a, b, atol=1e-6))"
   ]
  },
  {
   "cell_type": "markdown",
   "metadata": {},
   "source": [
    "Our naive softmax function has a problem with numerical stability when it get input vectors with larger elements:"
   ]
  },
  {
   "cell_type": "code",
   "execution_count": 7,
   "metadata": {},
   "outputs": [
    {
     "data": {
      "text/plain": [
       "tensor([0., 0., 0., nan, 0., 0., 0., 0., 0., 0.])"
      ]
     },
     "execution_count": 7,
     "metadata": {},
     "output_type": "execute_result"
    }
   ],
   "source": [
    "naive_softmax(x * 100)"
   ]
  },
  {
   "cell_type": "markdown",
   "metadata": {},
   "source": [
    "But before we will look into how to fix this let's first look at how a blockwise computation of softmax can be implemented with `naive_softmax()`. We generate a vector and split it into two chunks of equal size and compute softmax of the chunks individually."
   ]
  },
  {
   "cell_type": "code",
   "execution_count": 8,
   "metadata": {},
   "outputs": [
    {
     "name": "stdout",
     "output_type": "stream",
     "text": [
      "We have:\n",
      "s1 = tensor([0.1469, 0.2743, 0.1178, 0.3475, 0.1134])\n",
      "s2 = tensor([0.0403, 0.4899, 0.1561, 0.2785, 0.0353])\n",
      "We want:\n",
      "target = tensor([0.0721, 0.1347, 0.0578, 0.1706, 0.0557, 0.0205, 0.2494, 0.0795, 0.1418,\n",
      "        0.0180])\n"
     ]
    }
   ],
   "source": [
    "x = torch.randn(10)\n",
    "\n",
    "x1,x2 = torch.chunk(x, 2)\n",
    "s1 = naive_softmax(x1)\n",
    "s2 = naive_softmax(x2)\n",
    "\n",
    "print(\"We have:\")\n",
    "print(f\"s1 = {s1}\")\n",
    "print(f\"s2 = {s2}\")\n",
    "\n",
    "target = naive_softmax(x)\n",
    "print(\"We want:\")\n",
    "print(f\"target = {target}\")"
   ]
  },
  {
   "cell_type": "markdown",
   "metadata": {},
   "source": [
    "If we look at `naive_softmax()` we note that its output has been divided by `x.exp().sum()`. We can call this the \"sum exp\" value (note the similarity to \"log sum exp\") and we can use it to \"undo\" the softmax normalization and thereby compute combine multiple softmax chunks if we have this vaue for each chunk."
   ]
  },
  {
   "cell_type": "code",
   "execution_count": 9,
   "metadata": {},
   "outputs": [
    {
     "name": "stdout",
     "output_type": "stream",
     "text": [
      "After correction with help of lse values:\n",
      "s_combined tensor([0.0721, 0.1347, 0.0578, 0.1706, 0.0557, 0.0205, 0.2494, 0.0795, 0.1418,\n",
      "        0.0180])\n",
      "allclose(s_combined, target): True\n"
     ]
    }
   ],
   "source": [
    "se_x1 = x1.exp().sum()\n",
    "se_x2 = x2.exp().sum()\n",
    "s1_corrected = s1 * se_x1 / (se_x1 + se_x2)\n",
    "s2_corrected = s2 * se_x2 / (se_x1 + se_x2)\n",
    "\n",
    "print(\"After correction with help of lse values:\")\n",
    "s_combined = torch.cat([s1_corrected, s2_corrected])\n",
    "print(\"s_combined\", s_combined)\n",
    "\n",
    "print(\"allclose(s_combined, target):\", torch.allclose(s_combined, target))\n"
   ]
  },
  {
   "cell_type": "markdown",
   "metadata": {},
   "source": [
    "... but is this helpful at all? Yes, and it becomes more obivous when we realize that we can return this value from our softmax function and we can do the correction in a blockwise fashion in a loop by accumulating the `sum_exp` value:"
   ]
  },
  {
   "cell_type": "code",
   "execution_count": 10,
   "metadata": {},
   "outputs": [
    {
     "name": "stdout",
     "output_type": "stream",
     "text": [
      "tensor([0.0476, 0.0185, 0.1522, 0.0062, 0.0050, 0.0552, 0.1088, 0.0218, 0.0304,\n",
      "        0.1719, 0.0211, 0.0510, 0.1319, 0.0152, 0.0238, 0.0267, 0.0116, 0.0490,\n",
      "        0.0310, 0.0209])\n",
      "tensor([0.0476, 0.0185, 0.1522, 0.0062, 0.0050, 0.0552, 0.1088, 0.0218, 0.0304,\n",
      "        0.1719, 0.0211, 0.0510, 0.1319, 0.0152, 0.0238, 0.0267, 0.0116, 0.0490,\n",
      "        0.0310, 0.0209])\n"
     ]
    }
   ],
   "source": [
    "def naive_softmax2(x: torch.Tensor) -> Tuple[torch.Tensor, torch.Tensor]:\n",
    "    sum_exp = x.exp().sum()\n",
    "    return x.exp() / sum_exp, sum_exp\n",
    "\n",
    "\n",
    "def naive_blockwise_softmax(blocks: Sequence[torch.Tensor]) -> torch.Tensor:\n",
    "    out = []\n",
    "    sum_exp = 0\n",
    "    for block in blocks:\n",
    "        block_softmax, block_sum_exp = naive_softmax2(block)\n",
    "        for o in out:\n",
    "            o *= sum_exp / (sum_exp + block_sum_exp)\n",
    "        \n",
    "        out.append(block_softmax * block_sum_exp / (block_sum_exp + sum_exp))\n",
    "        sum_exp += block_sum_exp\n",
    "        \n",
    "    return torch.cat(out)\n",
    "    \n",
    "\n",
    "x_long = torch.randn(20)\n",
    "chunks = torch.chunk(x_long, 4)\n",
    "print(naive_blockwise_softmax(chunks))\n",
    "print(torch.softmax(x_long, dim=-1))\n"
   ]
  },
  {
   "cell_type": "markdown",
   "metadata": {},
   "source": [
    "OK, then now let's look at the numerical stability of softmax. First we can observe a interesting property of the softmax function: its output is shift/translation invariant (i.e. `f(x+a)=f(x)`):"
   ]
  },
  {
   "cell_type": "code",
   "execution_count": 11,
   "metadata": {},
   "outputs": [
    {
     "name": "stdout",
     "output_type": "stream",
     "text": [
      "tensor([0.0107, 0.0226, 0.0729, 0.0937, 0.0722, 0.2008, 0.1214, 0.4057])\n",
      "tensor([0.0107, 0.0226, 0.0729, 0.0937, 0.0722, 0.2008, 0.1214, 0.4057])\n",
      "tensor([0.0107, 0.0226, 0.0729, 0.0937, 0.0722, 0.2008, 0.1214, 0.4057])\n"
     ]
    }
   ],
   "source": [
    "x = torch.randn(8)\n",
    "print(naive_softmax(x))\n",
    "print(naive_softmax(x+5))\n",
    "print(naive_softmax(x-3))"
   ]
  },
  {
   "cell_type": "markdown",
   "metadata": {},
   "source": [
    "This porperty allows us to deal with problematic large inputs simply by subtracting their maximum:"
   ]
  },
  {
   "cell_type": "code",
   "execution_count": 12,
   "metadata": {},
   "outputs": [],
   "source": [
    "def stable_softmax(x):\n",
    "    m = x.max()\n",
    "    return (x-m).exp() / (x-m).exp().sum()"
   ]
  },
  {
   "cell_type": "markdown",
   "metadata": {},
   "source": [
    "This \"stable\" function now can also deal with larger value that were problematic for our naive function:"
   ]
  },
  {
   "cell_type": "code",
   "execution_count": 13,
   "metadata": {},
   "outputs": [
    {
     "name": "stdout",
     "output_type": "stream",
     "text": [
      "naive:  tensor([0., 0., 0., 0., 0., 0., nan, 0., 0., 0.])\n",
      "stable:  tensor([0.0000e+00, 0.0000e+00, 0.0000e+00, 5.2809e-36, 0.0000e+00, 1.7820e-34,\n",
      "        1.0000e+00, 0.0000e+00, 0.0000e+00, 0.0000e+00])\n",
      "torch:  tensor([0.0000e+00, 0.0000e+00, 0.0000e+00, 5.2809e-36, 0.0000e+00, 1.7820e-34,\n",
      "        1.0000e+00, 0.0000e+00, 0.0000e+00, 0.0000e+00])\n"
     ]
    }
   ],
   "source": [
    "large_input = torch.randn(10) * 100\n",
    "\n",
    "print(\"naive: \", naive_softmax(large_input))\n",
    "print(\"stable: \", stable_softmax(large_input))\n",
    "print(\"torch: \", torch.softmax(large_input, dim=-1))\n"
   ]
  },
  {
   "cell_type": "code",
   "execution_count": 14,
   "metadata": {},
   "outputs": [],
   "source": [
    "def stable_softmax2(x):\n",
    "    \"\"\"returns softmax result and log sum exp\"\"\"\n",
    "    m = x.max()\n",
    "    a = (x - m).exp()\n",
    "    b = a.sum()\n",
    "    lse = m + torch.log(b)\n",
    "    return a / b, lse"
   ]
  },
  {
   "cell_type": "markdown",
   "metadata": {},
   "source": [
    "Again we can now use this to combine two softmax block results, but to do it in the same way as before we would need to calculate the exp() values.. which is as we know numerically not stable:"
   ]
  },
  {
   "cell_type": "code",
   "execution_count": 15,
   "metadata": {},
   "outputs": [
    {
     "name": "stdout",
     "output_type": "stream",
     "text": [
      "tensor([0.2087, 0.0162, 0.0830, 0.0191, 0.0285, 0.0618, 0.0780, 0.0043, 0.0012,\n",
      "        0.0224, 0.0149, 0.1135, 0.0741, 0.0192, 0.0053, 0.0331, 0.0273, 0.0171,\n",
      "        0.0762, 0.0962])\n",
      "tensor([0.2087, 0.0162, 0.0830, 0.0191, 0.0285, 0.0618, 0.0780, 0.0043, 0.0012,\n",
      "        0.0224, 0.0149, 0.1135, 0.0741, 0.0192, 0.0053, 0.0331, 0.0273, 0.0171,\n",
      "        0.0762, 0.0962]) True\n"
     ]
    }
   ],
   "source": [
    "x = torch.randn(20)\n",
    "\n",
    "a = torch.softmax(x, dim=-1)\n",
    "\n",
    "x1, x2 = x.chunk(2)\n",
    "\n",
    "b1, lse1 = stable_softmax2(x1)\n",
    "b2, lse2 = stable_softmax2(x2)\n",
    "\n",
    "c1 = b1 * torch.exp(lse1) / (torch.exp(lse1) + torch.exp(lse2))\n",
    "c2 = b2 * torch.exp(lse2) / (torch.exp(lse1) + torch.exp(lse2))\n",
    "\n",
    "print(a)\n",
    "print(torch.cat([c1, c2]), torch.allclose(a, torch.cat([c1, c2])))\n"
   ]
  },
  {
   "cell_type": "markdown",
   "metadata": {},
   "source": [
    "But luckily log & exp are to the rescue:"
   ]
  },
  {
   "cell_type": "code",
   "execution_count": 16,
   "metadata": {},
   "outputs": [
    {
     "name": "stdout",
     "output_type": "stream",
     "text": [
      "tensor([0.2087, 0.0162, 0.0830, 0.0191, 0.0285, 0.0618, 0.0780, 0.0043, 0.0012,\n",
      "        0.0224, 0.0149, 0.1135, 0.0741, 0.0192, 0.0053, 0.0331, 0.0273, 0.0171,\n",
      "        0.0762, 0.0962])\n",
      "tensor([0.2087, 0.0162, 0.0830, 0.0191, 0.0285, 0.0618, 0.0780, 0.0043, 0.0012,\n",
      "        0.0224, 0.0149, 0.1135, 0.0741, 0.0192, 0.0053, 0.0331, 0.0273, 0.0171,\n",
      "        0.0762, 0.0962]) True\n"
     ]
    }
   ],
   "source": [
    "d1 = b1 * torch.exp(-torch.log(1 + torch.exp(lse2 - lse1)))\n",
    "d2 = b2 * torch.exp(-torch.log(1 + torch.exp(lse1 - lse2)))\n",
    "print(a)\n",
    "print(torch.cat([d1, d2]), torch.allclose(a, torch.cat([d1, d2])))"
   ]
  },
  {
   "cell_type": "markdown",
   "metadata": {},
   "source": [
    "To understand why `b1 * torch.exp(lse1) / (torch.exp(lse1) + torch.exp(lse2))` is equal to `b1 * torch.exp(-torch.log(1 + torch.exp(lse2-lse1)))` we remember school math basics:"
   ]
  },
  {
   "cell_type": "code",
   "execution_count": 17,
   "metadata": {},
   "outputs": [
    {
     "name": "stdout",
     "output_type": "stream",
     "text": [
      "math.exp(5)/math.exp(3) = 7.38905609893065\n",
      "math.exp(5 - 3) = 7.38905609893065\n",
      "a/(a+b) = 0.625\n",
      "1/(1+b/a) = 0.625\n"
     ]
    }
   ],
   "source": [
    "a = 5\n",
    "b = 3\n",
    "\n",
    "print(\"math.exp(5)/math.exp(3) =\", math.exp(5) / math.exp(3))\n",
    "print(\"math.exp(5 - 3) =\", math.exp(5 - 3))\n",
    "\n",
    "print(\"a/(a+b) =\", a / (a+b))\n",
    "print(\"1/(1+b/a) =\", 1 / (1+b/a))"
   ]
  },
  {
   "cell_type": "markdown",
   "metadata": {},
   "source": [
    "With the fresh knowledge about softmax we can now take a look at the `update()` function that is used in the ring-flash-attention implementation:"
   ]
  },
  {
   "cell_type": "code",
   "execution_count": 18,
   "metadata": {},
   "outputs": [],
   "source": [
    "def _update_out_and_lse(\n",
    "    out: torch.Tensor,\n",
    "    lse: torch.Tensor,\n",
    "    block_out: torch.Tensor,\n",
    "    block_lse: torch.Tensor,\n",
    ") -> Tuple[torch.Tensor, torch.Tensor]:\n",
    "    block_out = block_out.to(torch.float32)\n",
    "    block_lse = block_lse.transpose(-2, -1).unsqueeze(dim=-1)\n",
    "\n",
    "    new_lse = lse + torch.log(1 + torch.exp(block_lse - lse))\n",
    "    out = torch.exp(lse - new_lse) * out + torch.exp(block_lse - new_lse) * block_out\n",
    "\n",
    "    lse = new_lse\n",
    "    return out, lse"
   ]
  }
 ],
 "metadata": {
  "kernelspec": {
   "display_name": "base",
   "language": "python",
   "name": "python3"
  },
  "language_info": {
   "codemirror_mode": {
    "name": "ipython",
    "version": 3
   },
   "file_extension": ".py",
   "mimetype": "text/x-python",
   "name": "python",
   "nbconvert_exporter": "python",
   "pygments_lexer": "ipython3",
   "version": "3.11.5"
  }
 },
 "nbformat": 4,
 "nbformat_minor": 2
}
