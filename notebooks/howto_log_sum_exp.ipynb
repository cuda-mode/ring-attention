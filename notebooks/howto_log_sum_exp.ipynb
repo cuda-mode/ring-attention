{
 "cells": [
  {
   "cell_type": "markdown",
   "metadata": {},
   "source": [
    "# How-to Log Sum Exp\n",
    "\n",
    "Using flash-attention intensively you will at some point hear about `lse` values being returend. `lse` stands for log sum exp can be used to compute softmax (and thereby also attention) in a blockwise and stable fashion. This notebook aims to explain how this works."
   ]
  },
  {
   "cell_type": "markdown",
   "metadata": {},
   "source": [
    "Let's start by defining a naive softmax function .."
   ]
  },
  {
   "cell_type": "code",
   "execution_count": 103,
   "metadata": {},
   "outputs": [],
   "source": [
    "from typing import Tuple, Sequence\n",
    "import torch\n",
    "import math\n",
    "\n",
    "def naive_softmax(x: torch.Tensor) -> torch.Tensor:\n",
    "    return x.exp() / x.exp().sum()"
   ]
  },
  {
   "cell_type": "markdown",
   "metadata": {},
   "source": [
    "... and verify that its output matches the output of the official `torch.softmax()` function."
   ]
  },
  {
   "cell_type": "code",
   "execution_count": 104,
   "metadata": {},
   "outputs": [
    {
     "name": "stdout",
     "output_type": "stream",
     "text": [
      "a tensor([0.1621, 0.0160, 0.1076, 0.0987, 0.0044, 0.0168, 0.0487, 0.3812, 0.0206,\n",
      "        0.1438])\n",
      "b tensor([0.1621, 0.0160, 0.1076, 0.0987, 0.0044, 0.0168, 0.0487, 0.3812, 0.0206,\n",
      "        0.1438])\n",
      "allclose True\n"
     ]
    }
   ],
   "source": [
    "x = torch.randn(10)  # generate normally distributed random numbers\n",
    "a = torch.softmax(x, dim=-1) # reference output\n",
    "b = naive_softmax(x) # our naive version\n",
    "\n",
    "print(\"a\", a)\n",
    "print(\"b\", b)\n",
    "print(\"allclose\", torch.allclose(a, b, atol=1e-6))"
   ]
  },
  {
   "cell_type": "markdown",
   "metadata": {},
   "source": [
    "Our naive softmax function has a problem with numerical stability when it get input vectors with larger elements:"
   ]
  },
  {
   "cell_type": "code",
   "execution_count": 105,
   "metadata": {},
   "outputs": [
    {
     "data": {
      "text/plain": [
       "tensor([nan, 0., 0., 0., 0., 0., 0., nan, 0., nan])"
      ]
     },
     "execution_count": 105,
     "metadata": {},
     "output_type": "execute_result"
    }
   ],
   "source": [
    "naive_softmax(x * 100)"
   ]
  },
  {
   "cell_type": "markdown",
   "metadata": {},
   "source": [
    "But before we will look into how to fix this let's first look at how a blockwise computation of softmax can be implemented with `naive_softmax()`. We generate a vector and split it into two chunks of equal size and compute softmax of the chunks individually."
   ]
  },
  {
   "cell_type": "code",
   "execution_count": 106,
   "metadata": {},
   "outputs": [
    {
     "name": "stdout",
     "output_type": "stream",
     "text": [
      "We have:\n",
      "s1 = tensor([0.0534, 0.2454, 0.4393, 0.1991, 0.0627])\n",
      "s2 = tensor([0.4687, 0.0210, 0.1900, 0.0526, 0.2677])\n",
      "We want:\n",
      "target = tensor([0.0586, 0.0118, 0.0048, 0.0119, 0.0144, 0.0147, 0.0370, 0.0435, 0.0064,\n",
      "        0.0116, 0.0723, 0.0200, 0.0224, 0.1518, 0.3166, 0.0333, 0.0943, 0.0225,\n",
      "        0.0115, 0.0405])\n"
     ]
    }
   ],
   "source": [
    "x = torch.randn(10)\n",
    "\n",
    "x1,x2 = torch.chunk(x, 2)\n",
    "s1 = naive_softmax(x1)\n",
    "s2 = naive_softmax(x2)\n",
    "\n",
    "print(\"We have:\")\n",
    "print(f\"s1 = {s1}\")\n",
    "print(f\"s2 = {s2}\")\n",
    "\n",
    "target = naive_softmax(x)\n",
    "print(\"We want:\")\n",
    "print(f\"target = {s}\")"
   ]
  },
  {
   "cell_type": "markdown",
   "metadata": {},
   "source": [
    "If we look at `naive_softmax()` we note that its output has been divided by `x.exp().sum()`. We can call this the \"sum exp\" value (note the similarity to \"log sum exp\") and we can use it to \"undo\" the softmax normalization and thereby compute combine multiple softmax chunks if we have this vaue for each chunk."
   ]
  },
  {
   "cell_type": "code",
   "execution_count": 107,
   "metadata": {},
   "outputs": [
    {
     "name": "stdout",
     "output_type": "stream",
     "text": [
      "After correction with help of lse values:\n",
      "s_combined tensor([0.0187, 0.0860, 0.1540, 0.0698, 0.0220, 0.3044, 0.0137, 0.1234, 0.0341,\n",
      "        0.1738])\n",
      "allclose(s_combined, target): True\n"
     ]
    }
   ],
   "source": [
    "se_x1 = x1.exp().sum()\n",
    "se_x2 = x2.exp().sum()\n",
    "s1_corrected = s1 * se_x1 / (se_x1 + se_x2)\n",
    "s2_corrected = s2 * se_x2 / (se_x1 + se_x2)\n",
    "\n",
    "print(\"After correction with help of lse values:\")\n",
    "s_combined = torch.cat([s1_corrected, s2_corrected])\n",
    "print(\"s_combined\", s_combined)\n",
    "\n",
    "print(\"allclose(s_combined, target):\", torch.allclose(s_combined, target))\n"
   ]
  },
  {
   "cell_type": "markdown",
   "metadata": {},
   "source": [
    "... but is this helpful at all? Yes, and it becomes more obivous when we realize that we can return this value from our softmax function and we can do the correction in a blockwise fashion in a loop by accumulating the lse value:"
   ]
  },
  {
   "cell_type": "code",
   "execution_count": 108,
   "metadata": {},
   "outputs": [
    {
     "name": "stdout",
     "output_type": "stream",
     "text": [
      "tensor([0.0045, 0.0069, 0.0380, 0.0068, 0.0475, 0.1233, 0.0354, 0.0832, 0.0463,\n",
      "        0.0229, 0.0486, 0.0456, 0.0153, 0.0123, 0.0321, 0.0352, 0.0117, 0.0144,\n",
      "        0.3360, 0.0342])\n",
      "tensor([0.0045, 0.0069, 0.0380, 0.0068, 0.0475, 0.1233, 0.0354, 0.0832, 0.0463,\n",
      "        0.0229, 0.0486, 0.0456, 0.0153, 0.0123, 0.0321, 0.0352, 0.0117, 0.0144,\n",
      "        0.3360, 0.0342])\n"
     ]
    }
   ],
   "source": [
    "def naive_softmax2(x: torch.Tensor) -> Tuple[torch.Tensor, torch.Tensor]:\n",
    "    exp_sum = x.exp().sum()\n",
    "    return x.exp() / exp_sum, exp_sum\n",
    "\n",
    "\n",
    "def naive_blockwise_softmax(blocks: Sequence[torch.Tensor]) -> torch.Tensor:\n",
    "    out = []\n",
    "    exp_sum = 0\n",
    "    for block in blocks:\n",
    "        block_softmax, block_sum_exp = naive_softmax2(block)\n",
    "        for o in out:\n",
    "            o *= exp_sum / (exp_sum + block_sum_exp)\n",
    "        \n",
    "        out.append(block_softmax * block_sum_exp / (block_sum_exp + exp_sum))\n",
    "        exp_sum += block_sum_exp\n",
    "        \n",
    "    return torch.cat(out)\n",
    "    \n",
    "\n",
    "x_long = torch.randn(20)\n",
    "chunks = torch.chunk(x_long, 4)\n",
    "print(naive_blockwise_softmax(chunks))\n",
    "print(torch.softmax(x_long, dim=-1))\n"
   ]
  },
  {
   "cell_type": "markdown",
   "metadata": {},
   "source": [
    "OK, then now let's look at the numerical stability of softmax. First we can observe a interesting property of the softmax function: its output is shift/translation invariant:"
   ]
  },
  {
   "cell_type": "code",
   "execution_count": 109,
   "metadata": {},
   "outputs": [
    {
     "name": "stdout",
     "output_type": "stream",
     "text": [
      "tensor([0.0351, 0.1232, 0.2528, 0.0892, 0.0902, 0.0238, 0.3785, 0.0074])\n",
      "tensor([0.0351, 0.1232, 0.2528, 0.0892, 0.0902, 0.0238, 0.3785, 0.0074])\n",
      "tensor([0.0351, 0.1232, 0.2528, 0.0892, 0.0902, 0.0238, 0.3785, 0.0074])\n"
     ]
    }
   ],
   "source": [
    "x = torch.randn(8)\n",
    "print(naive_softmax(x))\n",
    "print(naive_softmax(x+5))\n",
    "print(naive_softmax(x-3))"
   ]
  },
  {
   "cell_type": "markdown",
   "metadata": {},
   "source": [
    "This porperty allows us to deal with problematic large inputs simply by subtracting their maximum:"
   ]
  },
  {
   "cell_type": "code",
   "execution_count": 110,
   "metadata": {},
   "outputs": [],
   "source": [
    "def stable_softmax(x):\n",
    "    m = x.max()\n",
    "    return (x-m).exp() / (x-m).exp().sum()"
   ]
  },
  {
   "cell_type": "markdown",
   "metadata": {},
   "source": [
    "This \"stable\" function now can also deal with larger value that were problematic for our naive function:"
   ]
  },
  {
   "cell_type": "code",
   "execution_count": 111,
   "metadata": {},
   "outputs": [
    {
     "name": "stdout",
     "output_type": "stream",
     "text": [
      "naive:  tensor([3.3718e-20, 1.9575e-20, 4.5934e-35, 1.0000e+00, 0.0000e+00, 0.0000e+00,\n",
      "        0.0000e+00, 0.0000e+00, 0.0000e+00, 0.0000e+00])\n",
      "stable:  tensor([3.3718e-20, 1.9575e-20, 4.5934e-35, 1.0000e+00, 0.0000e+00, 0.0000e+00,\n",
      "        0.0000e+00, 0.0000e+00, 0.0000e+00, 0.0000e+00])\n",
      "torch:  tensor([3.3718e-20, 1.9575e-20, 4.5934e-35, 1.0000e+00, 0.0000e+00, 0.0000e+00,\n",
      "        0.0000e+00, 0.0000e+00, 0.0000e+00, 0.0000e+00])\n"
     ]
    }
   ],
   "source": [
    "large_input = torch.randn(10) * 100\n",
    "\n",
    "print(\"naive: \", naive_softmax(large_input))\n",
    "print(\"stable: \", stable_softmax(large_input))\n",
    "print(\"torch: \", torch.softmax(large_input, dim=-1))\n"
   ]
  },
  {
   "cell_type": "code",
   "execution_count": 112,
   "metadata": {},
   "outputs": [],
   "source": [
    "def stable_softmax2(x):\n",
    "    \"\"\"returns softmax result and log sum exp\"\"\"\n",
    "    m = x.max()\n",
    "    a = (x - m).exp()\n",
    "    b = a.sum()\n",
    "    lse = m + torch.log(b)\n",
    "    return a / b, lse"
   ]
  },
  {
   "cell_type": "markdown",
   "metadata": {},
   "source": [
    "Again we can now use this to combine two softmax block results, but to do it in the same way as before we would need to calculate the exp() values.. which is as we know numerically not stable:"
   ]
  },
  {
   "cell_type": "code",
   "execution_count": 113,
   "metadata": {},
   "outputs": [
    {
     "name": "stdout",
     "output_type": "stream",
     "text": [
      "tensor([0.0242, 0.0231, 0.0421, 0.0112, 0.0095, 0.5461, 0.0210, 0.0580, 0.0072,\n",
      "        0.0119, 0.0078, 0.0183, 0.0221, 0.0801, 0.0042, 0.0070, 0.0102, 0.0155,\n",
      "        0.0381, 0.0422])\n",
      "tensor([0.0242, 0.0231, 0.0421, 0.0112, 0.0095, 0.5461, 0.0210, 0.0580, 0.0072,\n",
      "        0.0119, 0.0078, 0.0183, 0.0221, 0.0801, 0.0042, 0.0070, 0.0102, 0.0155,\n",
      "        0.0381, 0.0422]) True\n"
     ]
    }
   ],
   "source": [
    "x = torch.randn(20)\n",
    "\n",
    "a = torch.softmax(x, dim=-1)\n",
    "\n",
    "x1, x2 = x.chunk(2)\n",
    "\n",
    "b1, lse1 = stable_softmax2(x1)\n",
    "b2, lse2 = stable_softmax2(x2)\n",
    "\n",
    "c1 = b1 * torch.exp(lse1) / (torch.exp(lse1) + torch.exp(lse2))\n",
    "c2 = b2 * torch.exp(lse2) / (torch.exp(lse1) + torch.exp(lse2))\n",
    "\n",
    "print(a)\n",
    "print(torch.cat([c1, c2]), torch.allclose(a, torch.cat([c1, c2])))\n"
   ]
  },
  {
   "cell_type": "markdown",
   "metadata": {},
   "source": [
    "But luckily log & exp are to the rescue:"
   ]
  },
  {
   "cell_type": "code",
   "execution_count": 114,
   "metadata": {},
   "outputs": [
    {
     "name": "stdout",
     "output_type": "stream",
     "text": [
      "tensor([0.0242, 0.0231, 0.0421, 0.0112, 0.0095, 0.5461, 0.0210, 0.0580, 0.0072,\n",
      "        0.0119, 0.0078, 0.0183, 0.0221, 0.0801, 0.0042, 0.0070, 0.0102, 0.0155,\n",
      "        0.0381, 0.0422])\n",
      "tensor([0.0242, 0.0231, 0.0421, 0.0112, 0.0095, 0.5461, 0.0210, 0.0580, 0.0072,\n",
      "        0.0119, 0.0078, 0.0183, 0.0221, 0.0801, 0.0042, 0.0070, 0.0102, 0.0155,\n",
      "        0.0381, 0.0422]) True\n"
     ]
    }
   ],
   "source": [
    "d1 = b1 * torch.exp(-torch.log(1 + torch.exp(lse2 - lse1)))\n",
    "d2 = b2 * torch.exp(-torch.log(1 + torch.exp(lse1 - lse2)))\n",
    "print(a)\n",
    "print(torch.cat([d1, d2]), torch.allclose(a, torch.cat([d1, d2])))"
   ]
  },
  {
   "cell_type": "markdown",
   "metadata": {},
   "source": [
    "To understand why `b1 * torch.exp(lse1) / (torch.exp(lse1) + torch.exp(lse2))` is equal to `b1 * torch.exp(-torch.log(1 + torch.exp(lse2-lse1)))` we remember school math basics:"
   ]
  },
  {
   "cell_type": "code",
   "execution_count": 115,
   "metadata": {},
   "outputs": [
    {
     "name": "stdout",
     "output_type": "stream",
     "text": [
      "math.exp(5)/math.exp(3) = 7.38905609893065\n",
      "math.exp(5 - 3) = 7.38905609893065\n",
      "a/(a+b) = 0.625\n",
      "1/(1+b/a) = 0.625\n"
     ]
    }
   ],
   "source": [
    "a = 5\n",
    "b = 3\n",
    "\n",
    "print(\"math.exp(5)/math.exp(3) =\", math.exp(5) / math.exp(3))\n",
    "print(\"math.exp(5 - 3) =\", math.exp(5 - 3))\n",
    "\n",
    "print(\"a/(a+b) =\", a / (a+b))\n",
    "print(\"1/(1+b/a) =\", 1 / (1+b/a))"
   ]
  },
  {
   "cell_type": "markdown",
   "metadata": {},
   "source": [
    "With the fresh knowledge about softmax we can now take a look at the `update()` function that is used in the ring-flash-attention implementation:"
   ]
  },
  {
   "cell_type": "code",
   "execution_count": 116,
   "metadata": {},
   "outputs": [],
   "source": [
    "def _update_out_and_lse(\n",
    "    out: torch.Tensor,\n",
    "    lse: torch.Tensor,\n",
    "    block_out: torch.Tensor,\n",
    "    block_lse: torch.Tensor,\n",
    ") -> Tuple[torch.Tensor, torch.Tensor]:\n",
    "    block_out = block_out.to(torch.float32)\n",
    "    block_lse = block_lse.transpose(-2, -1).unsqueeze(dim=-1)\n",
    "\n",
    "    new_lse = lse + torch.log(1 + torch.exp(block_lse - lse))\n",
    "    out = torch.exp(lse - new_lse) * out + torch.exp(block_lse - new_lse) * block_out\n",
    "\n",
    "    lse = new_lse\n",
    "    return out, lse"
   ]
  }
 ],
 "metadata": {
  "kernelspec": {
   "display_name": "base",
   "language": "python",
   "name": "python3"
  },
  "language_info": {
   "codemirror_mode": {
    "name": "ipython",
    "version": 3
   },
   "file_extension": ".py",
   "mimetype": "text/x-python",
   "name": "python",
   "nbconvert_exporter": "python",
   "pygments_lexer": "ipython3",
   "version": "3.11.5"
  }
 },
 "nbformat": 4,
 "nbformat_minor": 2
}
